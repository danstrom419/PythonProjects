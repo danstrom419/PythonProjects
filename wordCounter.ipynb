{
  "nbformat": 4,
  "nbformat_minor": 0,
  "metadata": {
    "colab": {
      "provenance": [],
      "authorship_tag": "ABX9TyPRKLOOmRKIXpSQ+TuNrgxt",
      "include_colab_link": true
    },
    "kernelspec": {
      "name": "python3",
      "display_name": "Python 3"
    },
    "language_info": {
      "name": "python"
    }
  },
  "cells": [
    {
      "cell_type": "markdown",
      "metadata": {
        "id": "view-in-github",
        "colab_type": "text"
      },
      "source": [
        "<a href=\"https://colab.research.google.com/github/danstrom419/PythonProjects/blob/main/wordCounter.ipynb\" target=\"_parent\"><img src=\"https://colab.research.google.com/assets/colab-badge.svg\" alt=\"Open In Colab\"/></a>"
      ]
    },
    {
      "cell_type": "code",
      "execution_count": 23,
      "metadata": {
        "colab": {
          "base_uri": "https://localhost:8080/"
        },
        "id": "18E6hOSBll0a",
        "outputId": "f1a8c6c8-bdab-44f2-9b20-4e38988b766b"
      },
      "outputs": [
        {
          "output_type": "stream",
          "name": "stdout",
          "text": [
            "Please enter a text you want to analyze: Programming is both an art and a science. It requires logic, creativity, and problem-solving skills. Through programming, we can create solutions to everyday problems. Whether you are working with code in Python, Java, or C++, the core principles remain the same. Good programming practices can help create efficient, maintainable, and scalable software. The key to becoming a great programmer is persistence, learning from mistakes, and continuously improving your skills.\n",
            "programming: 3\n",
            "is: 2\n",
            "both: 1\n",
            "an: 1\n",
            "art: 1\n",
            "and: 4\n",
            "a: 2\n",
            "science: 1\n",
            "it: 1\n",
            "requires: 1\n",
            "logic: 1\n",
            "creativity: 1\n",
            "problem-solving: 1\n",
            "skills: 2\n",
            "through: 1\n",
            "we: 1\n",
            "can: 2\n",
            "create: 2\n",
            "solutions: 1\n",
            "to: 2\n",
            "everyday: 1\n",
            "problems: 1\n",
            "whether: 1\n",
            "you: 1\n",
            "are: 1\n",
            "working: 1\n",
            "with: 1\n",
            "code: 1\n",
            "in: 1\n",
            "python: 1\n",
            "java: 1\n",
            "or: 1\n",
            "c: 1\n",
            "the: 3\n",
            "core: 1\n",
            "principles: 1\n",
            "remain: 1\n",
            "same: 1\n",
            "good: 1\n",
            "practices: 1\n",
            "help: 1\n",
            "efficient: 1\n",
            "maintainable: 1\n",
            "scalable: 1\n",
            "software: 1\n",
            "key: 1\n",
            "becoming: 1\n",
            "great: 1\n",
            "programmer: 1\n",
            "persistence: 1\n",
            "learning: 1\n",
            "from: 1\n",
            "mistakes: 1\n",
            "continuously: 1\n",
            "improving: 1\n",
            "your: 1\n"
          ]
        }
      ],
      "source": [
        "#frequency counter for words\n",
        "import re\n",
        "def word_counter():\n",
        "  text_input = str(input(\"Please enter a text you want to analyze: \"))\n",
        "  text_input = re.sub(r'[^\\w\\s-]', '', text_input)\n",
        "  words_list = text_input.split()\n",
        "  word_count = {}\n",
        "  for word in words_list:\n",
        "    word = word.lower()\n",
        "    if word in word_count:\n",
        "      word_count[word] += 1\n",
        "    else:\n",
        "      word_count[word] = 1\n",
        "  for word, count in word_count.items():\n",
        "    print(f\"{word}: {count}\")\n",
        "word_counter()"
      ]
    }
  ]
}